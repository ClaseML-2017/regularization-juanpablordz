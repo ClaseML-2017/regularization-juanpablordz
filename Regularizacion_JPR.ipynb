{
 "cells": [
  {
   "cell_type": "markdown",
   "metadata": {},
   "source": [
    "# Regularizacion\n"
   ]
  },
  {
   "cell_type": "code",
   "execution_count": 38,
   "metadata": {
    "collapsed": true
   },
   "outputs": [],
   "source": [
    "#Imports\n",
    "import pandas as pd\n",
    "import numpy as np\n",
    "\n",
    "from sklearn.model_selection import train_test_split\n",
    "from sklearn.metrics import confusion_matrix\n",
    "from scipy.stats import norm\n",
    "\n",
    "from random import random\n",
    "import math\n",
    "\n",
    "import matplotlib.pyplot as plt\n",
    "from sklearn import datasets, linear_model\n",
    "from sklearn.metrics import mean_squared_error, r2_score\n",
    "\n"
   ]
  },
  {
   "cell_type": "code",
   "execution_count": 39,
   "metadata": {
    "collapsed": true
   },
   "outputs": [],
   "source": [
    "#df = pd.read_csv(\"/Users/normalazo/Desktop/env1/Entrega3_LR/regLin.csv\")\n",
    "#df = pd.read_csv(\"/Users/normalazo/Desktop/env1/Entrega3_LR/regLin2.csv\")\n",
    "#df = pd.read_csv(\"/Users/normalazo/Desktop/env1/Entrega3_LR/regLin3.csv\")\n",
    "#df = pd.read_csv(\"/Users/normalazo/Desktop/env1/Entrega3_LR/regLin4.csv\")\n",
    "df = pd.read_csv(\"/Users/normalazo/Desktop/env1/Entrega3_LR/regLinPoli.csv\")\n",
    "\n"
   ]
  },
  {
   "cell_type": "code",
   "execution_count": 40,
   "metadata": {},
   "outputs": [
    {
     "data": {
      "text/html": [
       "<div>\n",
       "<style>\n",
       "    .dataframe thead tr:only-child th {\n",
       "        text-align: right;\n",
       "    }\n",
       "\n",
       "    .dataframe thead th {\n",
       "        text-align: left;\n",
       "    }\n",
       "\n",
       "    .dataframe tbody tr th {\n",
       "        vertical-align: top;\n",
       "    }\n",
       "</style>\n",
       "<table border=\"1\" class=\"dataframe\">\n",
       "  <thead>\n",
       "    <tr style=\"text-align: right;\">\n",
       "      <th></th>\n",
       "      <th>X</th>\n",
       "      <th>X2</th>\n",
       "      <th>X3</th>\n",
       "      <th>X4</th>\n",
       "      <th>X5</th>\n",
       "      <th>y</th>\n",
       "    </tr>\n",
       "  </thead>\n",
       "  <tbody>\n",
       "    <tr>\n",
       "      <th>count</th>\n",
       "      <td>1029.000000</td>\n",
       "      <td>1029.000000</td>\n",
       "      <td>1029.000000</td>\n",
       "      <td>1029.000000</td>\n",
       "      <td>1029.000000</td>\n",
       "      <td>1029.000000</td>\n",
       "    </tr>\n",
       "    <tr>\n",
       "      <th>mean</th>\n",
       "      <td>48.052380</td>\n",
       "      <td>3113.669342</td>\n",
       "      <td>1.542203</td>\n",
       "      <td>-0.011250</td>\n",
       "      <td>628.000000</td>\n",
       "      <td>3113.490528</td>\n",
       "    </tr>\n",
       "    <tr>\n",
       "      <th>std</th>\n",
       "      <td>28.379936</td>\n",
       "      <td>2891.956247</td>\n",
       "      <td>0.452374</td>\n",
       "      <td>0.717016</td>\n",
       "      <td>297.191016</td>\n",
       "      <td>2892.963581</td>\n",
       "    </tr>\n",
       "    <tr>\n",
       "      <th>min</th>\n",
       "      <td>0.006314</td>\n",
       "      <td>0.000040</td>\n",
       "      <td>-2.199666</td>\n",
       "      <td>-0.999993</td>\n",
       "      <td>114.000000</td>\n",
       "      <td>0.000040</td>\n",
       "    </tr>\n",
       "    <tr>\n",
       "      <th>25%</th>\n",
       "      <td>23.174764</td>\n",
       "      <td>537.069692</td>\n",
       "      <td>1.365015</td>\n",
       "      <td>-0.731530</td>\n",
       "      <td>371.000000</td>\n",
       "      <td>522.757565</td>\n",
       "    </tr>\n",
       "    <tr>\n",
       "      <th>50%</th>\n",
       "      <td>47.655827</td>\n",
       "      <td>2271.077831</td>\n",
       "      <td>1.678116</td>\n",
       "      <td>-0.046938</td>\n",
       "      <td>628.000000</td>\n",
       "      <td>2262.728789</td>\n",
       "    </tr>\n",
       "    <tr>\n",
       "      <th>75%</th>\n",
       "      <td>71.372550</td>\n",
       "      <td>5094.040864</td>\n",
       "      <td>1.853531</td>\n",
       "      <td>0.732296</td>\n",
       "      <td>885.000000</td>\n",
       "      <td>5093.260718</td>\n",
       "    </tr>\n",
       "    <tr>\n",
       "      <th>max</th>\n",
       "      <td>99.873062</td>\n",
       "      <td>9974.628611</td>\n",
       "      <td>1.999448</td>\n",
       "      <td>1.000000</td>\n",
       "      <td>1142.000000</td>\n",
       "      <td>10028.067820</td>\n",
       "    </tr>\n",
       "  </tbody>\n",
       "</table>\n",
       "</div>"
      ],
      "text/plain": [
       "                 X           X2           X3           X4           X5  \\\n",
       "count  1029.000000  1029.000000  1029.000000  1029.000000  1029.000000   \n",
       "mean     48.052380  3113.669342     1.542203    -0.011250   628.000000   \n",
       "std      28.379936  2891.956247     0.452374     0.717016   297.191016   \n",
       "min       0.006314     0.000040    -2.199666    -0.999993   114.000000   \n",
       "25%      23.174764   537.069692     1.365015    -0.731530   371.000000   \n",
       "50%      47.655827  2271.077831     1.678116    -0.046938   628.000000   \n",
       "75%      71.372550  5094.040864     1.853531     0.732296   885.000000   \n",
       "max      99.873062  9974.628611     1.999448     1.000000  1142.000000   \n",
       "\n",
       "                  y  \n",
       "count   1029.000000  \n",
       "mean    3113.490528  \n",
       "std     2892.963581  \n",
       "min        0.000040  \n",
       "25%      522.757565  \n",
       "50%     2262.728789  \n",
       "75%     5093.260718  \n",
       "max    10028.067820  "
      ]
     },
     "execution_count": 40,
     "metadata": {},
     "output_type": "execute_result"
    }
   ],
   "source": [
    "# This data does not have headers so each attribute or field is simply enumerated\n",
    "df.describe()"
   ]
  },
  {
   "cell_type": "code",
   "execution_count": null,
   "metadata": {
    "collapsed": true
   },
   "outputs": [],
   "source": []
  },
  {
   "cell_type": "code",
   "execution_count": 41,
   "metadata": {},
   "outputs": [],
   "source": [
    "# Here df.columns i# Separate both train and test as well as the response variable\n",
    "\n",
    "# a list of all the columns and df.columns[0:-1] is all columns minus the last which is y. \n",
    "# If the data had headers you could use column names: df[['column1','column2','etc']]\n",
    "X_train, X_test, Y_train, Y_test = train_test_split(df[df.columns[0:-1]],df[[df.columns[-1]]], train_size=0.75)"
   ]
  },
  {
   "cell_type": "code",
   "execution_count": 42,
   "metadata": {
    "collapsed": true
   },
   "outputs": [],
   "source": [
    "# index for selecting data 0.75 is the percentage in training\n",
    "index=np.array([1 if random() < 0.75 else 0 for i in range(len(df))])\n"
   ]
  },
  {
   "cell_type": "code",
   "execution_count": 43,
   "metadata": {
    "collapsed": true
   },
   "outputs": [],
   "source": [
    "# Separate both train and test as well as the response variable\n",
    "X_train=np.asarray(X_train)\n",
    "X_test=np.asarray(X_test)\n",
    "Y_train=np.asarray(Y_train)\n",
    "Y_test=np.asarray(Y_test)\n",
    "\n",
    "#plt.scatter(X_test, Y_test,  color='black')"
   ]
  },
  {
   "cell_type": "code",
   "execution_count": 44,
   "metadata": {
    "collapsed": true
   },
   "outputs": [],
   "source": [
    "# Normalizar no ayuda mucho pero sale igual al de sklearn. Para que las alturas del pdf signifiquen lo mismo \n",
    "from sklearn import preprocessing\n",
    "\n",
    "scalerX = preprocessing.StandardScaler()\n",
    "scalerY = preprocessing.StandardScaler()\n",
    "\n",
    "scalerX.fit(X_train)\n",
    "X_train=scalerX.transform(X_train)\n",
    "\n",
    "\n",
    "scalerY.fit(Y_train)\n",
    "Y_train=scalerY.transform(Y_train)\n",
    "\n",
    "X_test=scalerX.transform(X_test)\n",
    "Y_test=scalerY.transform(Y_test)\n",
    "\n",
    "\n",
    "#plt.scatter(X_test, Y_test,  color='black')"
   ]
  },
  {
   "cell_type": "code",
   "execution_count": 45,
   "metadata": {
    "collapsed": true
   },
   "outputs": [],
   "source": [
    "# Create linear regression object\n",
    "regr = linear_model.LinearRegression()"
   ]
  },
  {
   "cell_type": "code",
   "execution_count": 46,
   "metadata": {},
   "outputs": [
    {
     "data": {
      "text/plain": [
       "LinearRegression(copy_X=True, fit_intercept=True, n_jobs=1, normalize=False)"
      ]
     },
     "execution_count": 46,
     "metadata": {},
     "output_type": "execute_result"
    }
   ],
   "source": [
    "# Train the model using the training sets\n",
    "regr.fit(X_train, Y_train)"
   ]
  },
  {
   "cell_type": "code",
   "execution_count": 47,
   "metadata": {
    "collapsed": true
   },
   "outputs": [],
   "source": [
    "def ILR(X_train, Y_train, learningC, w, lam ):\n",
    "    numrows = len(X_train)    # 3 rows in your example\n",
    "    numcols = len(X_train[0]) # 2 columns in your example\n",
    "\n",
    "    for j in range (0,numrows):\n",
    "\n",
    "        x = np.ones(1)\n",
    "        x = np.concatenate((x,X_train[j]), axis=0)\n",
    "\n",
    "        #calculate the value of \n",
    "        res = np.dot(w,x)\n",
    "\n",
    "        #difference \n",
    "        dif = Y_train[j] - res\n",
    "\n",
    "        #print dif\n",
    "\n",
    "        for i in range (0,numcols +1 ):\n",
    "            if(i==0):\n",
    "                w[i] = w[i]+dif*learningC*x[i]\n",
    "            else:\n",
    "                w[i] = w[i]+dif*learningC*x[i]-w[i]*lam\n",
    "            \n",
    "    return w\n"
   ]
  },
  {
   "cell_type": "code",
   "execution_count": 48,
   "metadata": {},
   "outputs": [],
   "source": [
    "#Numero de Columnas y Renglones\n",
    "numrows = len(X_train)    # 3 rows in your example\n",
    "numcols = len(X_train[0]) # 2 columns in your example\n",
    "\n",
    "#inicializacion de vector de w's\n",
    "w = np.ones(numcols+1)\n"
   ]
  },
  {
   "cell_type": "code",
   "execution_count": 49,
   "metadata": {},
   "outputs": [],
   "source": [
    "for j in range (0,5):\n",
    "    w = ILR(X_train, Y_train, .001, w, 0.0)\n",
    "    X_mod = np.c_[ X_test, np.ones(X_test.shape[0]) ]\n",
    "    Y_pred = np.dot(w,X_mod.T)\n",
    "    "
   ]
  },
  {
   "cell_type": "code",
   "execution_count": 50,
   "metadata": {},
   "outputs": [
    {
     "data": {
      "text/plain": [
       "0.19831553743740082"
      ]
     },
     "execution_count": 50,
     "metadata": {},
     "output_type": "execute_result"
    }
   ],
   "source": [
    "#MSE\n",
    "mean_squared_error(Y_test, Y_pred)"
   ]
  },
  {
   "cell_type": "code",
   "execution_count": 51,
   "metadata": {},
   "outputs": [
    {
     "data": {
      "text/plain": [
       "array([ 0.02270489,  0.34915581,  0.57345319,  0.07516063,  0.03778597,\n",
       "        0.02530873])"
      ]
     },
     "execution_count": 51,
     "metadata": {},
     "output_type": "execute_result"
    }
   ],
   "source": [
    "#Vector de Pesos\n",
    "w"
   ]
  },
  {
   "cell_type": "markdown",
   "metadata": {},
   "source": [
    "# Regularizacion con Mini Batch"
   ]
  },
  {
   "cell_type": "code",
   "execution_count": 52,
   "metadata": {
    "collapsed": true
   },
   "outputs": [],
   "source": [
    "def ILR_batch(X_train, Y_train, learningC, w, lam , numBatch, batchSize):\n",
    "    numrows = len(X_train)    # 3 rows in your example\n",
    "    numcols = len(X_train[0]) # 2 columns in your example\n",
    "    x_barra = np.zeros(numcols+1)\n",
    "    dif_acum = 0\n",
    "    \n",
    "\n",
    "    for j in range (0,numBatch):\n",
    "        \n",
    "        idx = np.random.randint(X_train.shape[0], size=batchSize)\n",
    "        idx\n",
    "        X_Batch = X_train[idx,:]\n",
    "        \n",
    "        \n",
    "        for k in range (0,batchSize):\n",
    "            x = np.ones(1)\n",
    "            x = np.concatenate((x,X_train[k]), axis=0)\n",
    "            x_barra = x_barra + x\n",
    "            \n",
    "            #calculate the value of \n",
    "            res = np.dot(w,x)\n",
    "            \n",
    "            #difference \n",
    "            dif = Y_train[k] - res\n",
    "            dif_acum = dif_acum + dif\n",
    "        \n",
    "        x_barra=x_barra/batchSize\n",
    "        dif_acum=dif_acum/batchSize\n",
    "\n",
    "        #actualizamos cada peso\n",
    "        for i in range (0,numcols +1 ):\n",
    "            if(i==0):\n",
    "                w[i] = w[i]+dif_acum*learningC*x_barra[i]\n",
    "            else:\n",
    "                w[i] = w[i]+dif_acum*learningC*x_barra[i]-w[i]*lam\n",
    "\n",
    "    return w\n"
   ]
  },
  {
   "cell_type": "code",
   "execution_count": 53,
   "metadata": {},
   "outputs": [],
   "source": [
    "#inicializacion de vector de w's\n",
    "w = np.ones(numcols+1)\n",
    "\n",
    "for j in range (0,5):\n",
    "    w = ILR_batch(X_train, Y_train, .001, w, 0.01 ,2000,50)\n",
    "    X_mod = np.c_[ X_test, np.ones(X_test.shape[0]) ]\n",
    "    Y_pred = np.dot(w,X_mod.T)"
   ]
  },
  {
   "cell_type": "code",
   "execution_count": 54,
   "metadata": {},
   "outputs": [
    {
     "data": {
      "text/plain": [
       "0.91662137672417676"
      ]
     },
     "execution_count": 54,
     "metadata": {},
     "output_type": "execute_result"
    }
   ],
   "source": [
    "#MSE\n",
    "mean_squared_error(Y_test, Y_pred)"
   ]
  },
  {
   "cell_type": "code",
   "execution_count": 55,
   "metadata": {},
   "outputs": [
    {
     "data": {
      "text/plain": [
       "array([  5.05618001e-02,  -5.01041518e-08,  -1.61463782e-07,\n",
       "         2.82108793e-07,  -1.80845372e-07,  -4.02040521e-07])"
      ]
     },
     "execution_count": 55,
     "metadata": {},
     "output_type": "execute_result"
    }
   ],
   "source": [
    "#Vector de Pesos\n",
    "w"
   ]
  },
  {
   "cell_type": "code",
   "execution_count": null,
   "metadata": {
    "collapsed": true
   },
   "outputs": [],
   "source": []
  },
  {
   "cell_type": "code",
   "execution_count": null,
   "metadata": {
    "collapsed": true
   },
   "outputs": [],
   "source": []
  }
 ],
 "metadata": {
  "kernelspec": {
   "display_name": "Python 2",
   "language": "python",
   "name": "python2"
  },
  "language_info": {
   "codemirror_mode": {
    "name": "ipython",
    "version": 2
   },
   "file_extension": ".py",
   "mimetype": "text/x-python",
   "name": "python",
   "nbconvert_exporter": "python",
   "pygments_lexer": "ipython2",
   "version": "2.7.10"
  }
 },
 "nbformat": 4,
 "nbformat_minor": 2
}
